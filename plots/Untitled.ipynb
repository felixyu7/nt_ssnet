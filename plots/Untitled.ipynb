{
 "cells": [
  {
   "cell_type": "code",
   "execution_count": 108,
   "id": "366ad543-e430-4ccc-8110-94ff9cb77a6d",
   "metadata": {},
   "outputs": [],
   "source": [
    "import matplotlib.pyplot as plt\n",
    "plt.style.use(\"paper.mplstyle\")\n",
    "import numpy as np\n",
    "import awkward as ak\n",
    "from glob import glob\n",
    "from tqdm.notebook import tqdm"
   ]
  },
  {
   "cell_type": "code",
   "execution_count": 93,
   "id": "f1f4d9d6-b7a6-404d-9aed-2c4615486e5c",
   "metadata": {},
   "outputs": [],
   "source": [
    "fs = glob(\"/Users/jlazar/Downloads/MuMinus_Hadrons_seed_750*_meta_data_noisy_smt.parquet\")\n",
    "other_fs = glob(\"/Users/jlazar/Downloads/MuMinus_Hadrons_seed_7500*_meta_data.parquet\")\n",
    "events = ak.from_parquet(fs[0])"
   ]
  },
  {
   "cell_type": "code",
   "execution_count": 96,
   "id": "f5e91362-3d4f-4dab-b7bd-a3dc31cfe0a3",
   "metadata": {},
   "outputs": [
    {
     "data": {
      "text/plain": [
       "array([ -37.33903242, -284.32294891, -399.77186663])"
      ]
     },
     "execution_count": 96,
     "metadata": {},
     "output_type": "execute_result"
    }
   ],
   "source": [
    "def qcog(event):\n",
    "    \"\"\"Find the charge weighted center of gravity of an event\"\"\"\n",
    "    if isinstance(event, ak.highlevel.Array):\n",
    "        cog = np.array([\n",
    "            np.mean(event[\"total\", \"sensor_pos_x\"], axis=1),\n",
    "            np.mean(event[\"total\", \"sensor_pos_y\"], axis=1),\n",
    "            np.mean(event[\"total\", \"sensor_pos_z\"], axis=1),\n",
    "        ])\n",
    "    else:\n",
    "        xyz = np.array([\n",
    "            event.total.sensor_pos_x,\n",
    "            event.total.sensor_pos_y,\n",
    "            event.total.sensor_pos_z,\n",
    "        ])\n",
    "        cog = np.mean(xyz, axis=1)\n",
    "    return cog\n",
    "qcog(events[0])"
   ]
  },
  {
   "cell_type": "code",
   "execution_count": 97,
   "id": "461faeba-4e5a-4a34-b5ea-63c57fc07ba4",
   "metadata": {},
   "outputs": [
    {
     "data": {
      "text/plain": [
       "1419"
      ]
     },
     "execution_count": 97,
     "metadata": {},
     "output_type": "execute_result"
    }
   ],
   "source": [
    "def nhits(event):\n",
    "    \"\"\"find the number of photons that arrived at any OM\"\"\"\n",
    "    if isinstance(event, ak.highlevel.Array):\n",
    "        return np.array([len(x) for x in event.total.t])\n",
    "    else:\n",
    "        return len(event.total.t)\n",
    "nhits(events[0])"
   ]
  },
  {
   "cell_type": "code",
   "execution_count": 98,
   "id": "99d2dcc9-188d-4a0c-8c50-67dfbd1da5e5",
   "metadata": {},
   "outputs": [
    {
     "data": {
      "application/vnd.jupyter.widget-view+json": {
       "model_id": "1c5f4ead61c442af8c913acf859d4f80",
       "version_major": 2,
       "version_minor": 0
      },
      "text/plain": [
       "Computing ellipsoids:   0%|          | 0/5 [00:00<?, ?it/s]"
      ]
     },
     "metadata": {},
     "output_type": "display_data"
    },
    {
     "data": {
      "text/plain": [
       "array([0.64667003, 0.45400516, 0.32611123, 0.08606009, 0.11474201])"
      ]
     },
     "execution_count": 98,
     "metadata": {},
     "output_type": "execute_result"
    }
   ],
   "source": [
    "from fit_ellipsoid import fit_ellipsoid\n",
    "def ellipsoid_ratio(event):\n",
    "    \"\"\"Find ratio of semimajor axes of ellipsoid with symmetry about z-axis\"\"\"\n",
    "    if isinstance(event, ak.highlevel.Array):\n",
    "        ratio = np.array([ellipsoid_ratio(e) for e in tqdm(event, desc=\"Computing ellipsoids\")])\n",
    "    else:\n",
    "        \n",
    "        res = fit_ellipsoid(event)\n",
    "        ratio = res.x[0] / res.x[1]\n",
    "    return ratio\n",
    "ellipsoid_ratio(events[:5])"
   ]
  },
  {
   "cell_type": "code",
   "execution_count": 99,
   "id": "3c914b47-a393-4c0f-a4ba-2f94f6848c51",
   "metadata": {},
   "outputs": [
    {
     "data": {
      "application/vnd.jupyter.widget-view+json": {
       "model_id": "a81d523e78e54711bccf0edb20519f92",
       "version_major": 2,
       "version_minor": 0
      },
      "text/plain": [
       "Computing ellipsoids: 0it [00:00, ?it/s]"
      ]
     },
     "metadata": {},
     "output_type": "display_data"
    },
    {
     "data": {
      "text/plain": [
       "array([False, False])"
      ]
     },
     "execution_count": 99,
     "metadata": {},
     "output_type": "execute_result"
    }
   ],
   "source": [
    "def passed_quality(event):\n",
    "    \"\"\"Determine if event passes our quality filter\"\"\"\n",
    "    if isinstance(event, ak.highlevel.Array):\n",
    "        m1 = np.argwhere(nhits(event) > 11).flatten()\n",
    "        m2 = m1[np.argwhere(np.linalg.norm(qcog(event[m1]), axis=0) < 400).flatten()]\n",
    "        eratio = ellipsoid_ratio(event[m2])\n",
    "        m3 = m2[np.argwhere(\n",
    "            np.logical_and(\n",
    "                2 < eratio,\n",
    "                eratio < 8\n",
    "            )\n",
    "        )]\n",
    "        mask = np.full(len(event), False)\n",
    "        mask[m3.flatten()] = True\n",
    "        return mask\n",
    "    else:\n",
    "        if nhits(event) <= 11:\n",
    "            return False\n",
    "        if np.linalg.norm(qcog(event)) > 400:\n",
    "            return False\n",
    "        eratio = ellipsoid_ratio(event)\n",
    "        if 2 > eratio or 8 < eratio:\n",
    "            return False\n",
    "        return True\n",
    "passed_quality(events[2:4])"
   ]
  },
  {
   "cell_type": "code",
   "execution_count": 100,
   "id": "60d51217-5457-4e46-8050-5defdc2cb8a7",
   "metadata": {},
   "outputs": [],
   "source": [
    "# quality_masks = []\n",
    "# # for f in fs:\n",
    "# for f in tqdm(fs, desc=\"Might be a good time to get some coffee\"):\n",
    "#     events = ak.from_parquet(f)\n",
    "#     quality_mask = passed_quality(events)\n",
    "#     quality_masks.append(quality_mask)"
   ]
  },
  {
   "cell_type": "code",
   "execution_count": 110,
   "id": "1d49bdc2-903d-4ec7-a8b6-d2cf2c0f9ca3",
   "metadata": {},
   "outputs": [
    {
     "data": {
      "application/vnd.jupyter.widget-view+json": {
       "model_id": "a35734a3e3c148ff8581c28601ae8959",
       "version_major": 2,
       "version_minor": 0
      },
      "text/plain": [
       "  0%|          | 0/4 [00:00<?, ?it/s]"
      ]
     },
     "metadata": {},
     "output_type": "display_data"
    },
    {
     "data": {
      "application/vnd.jupyter.widget-view+json": {
       "model_id": "090fe7cd7163421eb7378fed04a08c7f",
       "version_major": 2,
       "version_minor": 0
      },
      "text/plain": [
       "  0%|          | 0/4 [00:00<?, ?it/s]"
      ]
     },
     "metadata": {},
     "output_type": "display_data"
    },
    {
     "data": {
      "application/vnd.jupyter.widget-view+json": {
       "model_id": "ad1d06f34f2d496a8cc92f0bda98bcac",
       "version_major": 2,
       "version_minor": 0
      },
      "text/plain": [
       "  0%|          | 0/4 [00:00<?, ?it/s]"
      ]
     },
     "metadata": {},
     "output_type": "display_data"
    },
    {
     "data": {
      "application/vnd.jupyter.widget-view+json": {
       "model_id": "3879ede347504d24a02c02aab75a6161",
       "version_major": 2,
       "version_minor": 0
      },
      "text/plain": [
       "  0%|          | 0/4 [00:00<?, ?it/s]"
      ]
     },
     "metadata": {},
     "output_type": "display_data"
    },
    {
     "name": "stderr",
     "output_type": "stream",
     "text": [
      "findfont: Generic family 'serif' not found because none of the following families were found: Computer Modern, Latin Modern Roman, Bitstream Vera Serif\n",
      "findfont: Generic family 'serif' not found because none of the following families were found: Computer Modern, Latin Modern Roman, Bitstream Vera Serif\n",
      "findfont: Generic family 'serif' not found because none of the following families were found: Computer Modern, Latin Modern Roman, Bitstream Vera Serif\n",
      "findfont: Generic family 'serif' not found because none of the following families were found: Computer Modern, Latin Modern Roman, Bitstream Vera Serif\n",
      "findfont: Generic family 'serif' not found because none of the following families were found: Computer Modern, Latin Modern Roman, Bitstream Vera Serif\n",
      "findfont: Generic family 'serif' not found because none of the following families were found: Computer Modern, Latin Modern Roman, Bitstream Vera Serif\n",
      "findfont: Generic family 'serif' not found because none of the following families were found: Computer Modern, Latin Modern Roman, Bitstream Vera Serif\n",
      "findfont: Generic family 'serif' not found because none of the following families were found: Computer Modern, Latin Modern Roman, Bitstream Vera Serif\n",
      "findfont: Generic family 'serif' not found because none of the following families were found: Computer Modern, Latin Modern Roman, Bitstream Vera Serif\n",
      "findfont: Generic family 'serif' not found because none of the following families were found: Computer Modern, Latin Modern Roman, Bitstream Vera Serif\n",
      "findfont: Generic family 'serif' not found because none of the following families were found: Computer Modern, Latin Modern Roman, Bitstream Vera Serif\n",
      "findfont: Generic family 'serif' not found because none of the following families were found: Computer Modern, Latin Modern Roman, Bitstream Vera Serif\n",
      "findfont: Generic family 'serif' not found because none of the following families were found: Computer Modern, Latin Modern Roman, Bitstream Vera Serif\n",
      "findfont: Generic family 'serif' not found because none of the following families were found: Computer Modern, Latin Modern Roman, Bitstream Vera Serif\n",
      "findfont: Generic family 'serif' not found because none of the following families were found: Computer Modern, Latin Modern Roman, Bitstream Vera Serif\n",
      "findfont: Generic family 'serif' not found because none of the following families were found: Computer Modern, Latin Modern Roman, Bitstream Vera Serif\n",
      "findfont: Generic family 'serif' not found because none of the following families were found: Computer Modern, Latin Modern Roman, Bitstream Vera Serif\n",
      "findfont: Generic family 'serif' not found because none of the following families were found: Computer Modern, Latin Modern Roman, Bitstream Vera Serif\n",
      "findfont: Generic family 'serif' not found because none of the following families were found: Computer Modern, Latin Modern Roman, Bitstream Vera Serif\n",
      "findfont: Generic family 'serif' not found because none of the following families were found: Computer Modern, Latin Modern Roman, Bitstream Vera Serif\n",
      "findfont: Generic family 'serif' not found because none of the following families were found: Computer Modern, Latin Modern Roman, Bitstream Vera Serif\n",
      "findfont: Generic family 'serif' not found because none of the following families were found: Computer Modern, Latin Modern Roman, Bitstream Vera Serif\n",
      "findfont: Generic family 'serif' not found because none of the following families were found: Computer Modern, Latin Modern Roman, Bitstream Vera Serif\n",
      "findfont: Generic family 'serif' not found because none of the following families were found: Computer Modern, Latin Modern Roman, Bitstream Vera Serif\n",
      "findfont: Generic family 'serif' not found because none of the following families were found: Computer Modern, Latin Modern Roman, Bitstream Vera Serif\n",
      "findfont: Generic family 'serif' not found because none of the following families were found: Computer Modern, Latin Modern Roman, Bitstream Vera Serif\n",
      "findfont: Generic family 'serif' not found because none of the following families were found: Computer Modern, Latin Modern Roman, Bitstream Vera Serif\n",
      "findfont: Generic family 'serif' not found because none of the following families were found: Computer Modern, Latin Modern Roman, Bitstream Vera Serif\n",
      "findfont: Generic family 'serif' not found because none of the following families were found: Computer Modern, Latin Modern Roman, Bitstream Vera Serif\n",
      "findfont: Generic family 'serif' not found because none of the following families were found: Computer Modern, Latin Modern Roman, Bitstream Vera Serif\n",
      "findfont: Generic family 'serif' not found because none of the following families were found: Computer Modern, Latin Modern Roman, Bitstream Vera Serif\n",
      "findfont: Generic family 'serif' not found because none of the following families were found: Computer Modern, Latin Modern Roman, Bitstream Vera Serif\n",
      "findfont: Generic family 'serif' not found because none of the following families were found: Computer Modern, Latin Modern Roman, Bitstream Vera Serif\n",
      "findfont: Generic family 'serif' not found because none of the following families were found: Computer Modern, Latin Modern Roman, Bitstream Vera Serif\n",
      "findfont: Generic family 'serif' not found because none of the following families were found: Computer Modern, Latin Modern Roman, Bitstream Vera Serif\n",
      "findfont: Generic family 'serif' not found because none of the following families were found: Computer Modern, Latin Modern Roman, Bitstream Vera Serif\n",
      "findfont: Generic family 'serif' not found because none of the following families were found: Computer Modern, Latin Modern Roman, Bitstream Vera Serif\n",
      "findfont: Generic family 'serif' not found because none of the following families were found: Computer Modern, Latin Modern Roman, Bitstream Vera Serif\n",
      "findfont: Generic family 'serif' not found because none of the following families were found: Computer Modern, Latin Modern Roman, Bitstream Vera Serif\n",
      "findfont: Generic family 'serif' not found because none of the following families were found: Computer Modern, Latin Modern Roman, Bitstream Vera Serif\n",
      "findfont: Generic family 'serif' not found because none of the following families were found: Computer Modern, Latin Modern Roman, Bitstream Vera Serif\n",
      "findfont: Generic family 'serif' not found because none of the following families were found: Computer Modern, Latin Modern Roman, Bitstream Vera Serif\n",
      "findfont: Generic family 'serif' not found because none of the following families were found: Computer Modern, Latin Modern Roman, Bitstream Vera Serif\n",
      "findfont: Generic family 'serif' not found because none of the following families were found: Computer Modern, Latin Modern Roman, Bitstream Vera Serif\n",
      "findfont: Generic family 'serif' not found because none of the following families were found: Computer Modern, Latin Modern Roman, Bitstream Vera Serif\n",
      "findfont: Generic family 'serif' not found because none of the following families were found: Computer Modern, Latin Modern Roman, Bitstream Vera Serif\n",
      "findfont: Generic family 'serif' not found because none of the following families were found: Computer Modern, Latin Modern Roman, Bitstream Vera Serif\n",
      "findfont: Generic family 'serif' not found because none of the following families were found: Computer Modern, Latin Modern Roman, Bitstream Vera Serif\n",
      "findfont: Generic family 'serif' not found because none of the following families were found: Computer Modern, Latin Modern Roman, Bitstream Vera Serif\n",
      "findfont: Generic family 'serif' not found because none of the following families were found: Computer Modern, Latin Modern Roman, Bitstream Vera Serif\n",
      "findfont: Generic family 'serif' not found because none of the following families were found: Computer Modern, Latin Modern Roman, Bitstream Vera Serif\n",
      "findfont: Generic family 'serif' not found because none of the following families were found: Computer Modern, Latin Modern Roman, Bitstream Vera Serif\n",
      "findfont: Generic family 'serif' not found because none of the following families were found: Computer Modern, Latin Modern Roman, Bitstream Vera Serif\n",
      "findfont: Generic family 'serif' not found because none of the following families were found: Computer Modern, Latin Modern Roman, Bitstream Vera Serif\n",
      "findfont: Generic family 'serif' not found because none of the following families were found: Computer Modern, Latin Modern Roman, Bitstream Vera Serif\n",
      "findfont: Generic family 'serif' not found because none of the following families were found: Computer Modern, Latin Modern Roman, Bitstream Vera Serif\n",
      "findfont: Generic family 'serif' not found because none of the following families were found: Computer Modern, Latin Modern Roman, Bitstream Vera Serif\n",
      "findfont: Generic family 'serif' not found because none of the following families were found: Computer Modern, Latin Modern Roman, Bitstream Vera Serif\n",
      "findfont: Generic family 'serif' not found because none of the following families were found: Computer Modern, Latin Modern Roman, Bitstream Vera Serif\n",
      "findfont: Generic family 'serif' not found because none of the following families were found: Computer Modern, Latin Modern Roman, Bitstream Vera Serif\n",
      "findfont: Generic family 'serif' not found because none of the following families were found: Computer Modern, Latin Modern Roman, Bitstream Vera Serif\n",
      "findfont: Generic family 'serif' not found because none of the following families were found: Computer Modern, Latin Modern Roman, Bitstream Vera Serif\n",
      "findfont: Generic family 'serif' not found because none of the following families were found: Computer Modern, Latin Modern Roman, Bitstream Vera Serif\n",
      "findfont: Generic family 'serif' not found because none of the following families were found: Computer Modern, Latin Modern Roman, Bitstream Vera Serif\n",
      "findfont: Generic family 'serif' not found because none of the following families were found: Computer Modern, Latin Modern Roman, Bitstream Vera Serif\n",
      "findfont: Generic family 'serif' not found because none of the following families were found: Computer Modern, Latin Modern Roman, Bitstream Vera Serif\n",
      "findfont: Generic family 'serif' not found because none of the following families were found: Computer Modern, Latin Modern Roman, Bitstream Vera Serif\n",
      "findfont: Generic family 'serif' not found because none of the following families were found: Computer Modern, Latin Modern Roman, Bitstream Vera Serif\n"
     ]
    },
    {
     "data": {
      "image/png": "[encoded data removed]",
      "text/plain": [
       "<Figure size 750x500 with 1 Axes>"
      ]
     },
     "metadata": {},
     "output_type": "display_data"
    }
   ],
   "source": [
    "ebins = np.logspace(2, 6, 41)\n",
    "ecents = (ebins[1:] + ebins[:-1]) / 2\n",
    "ewidths = ebins[1:] - ebins[:-1]\n",
    "\n",
    "labels = [\"Generation\", \"Light\", \"SMT8\", \"Quality\"]\n",
    "\n",
    "for idx, label in enumerate(labels):\n",
    "    h = np.zeros(ecents.shape)\n",
    "    if idx==0 or idx==1:\n",
    "        itr = enumerate(tqdm(other_fs))\n",
    "    else:\n",
    "        itr = enumerate(tqdm(fs))\n",
    "    for jdx, f in itr:\n",
    "        a = ak.from_parquet(f)\n",
    "        if idx==0:\n",
    "            h_tmp, _ = np.histogram(a.mc_truth.injection_energy, bins=ebins)\n",
    "        elif idx==1:\n",
    "            mask = np.array([len(x)>1 for x in a.total.t])\n",
    "            h_tmp, _ = np.histogram(a.mc_truth.injection_energy[mask], bins=ebins)\n",
    "        if idx==2:\n",
    "            h_tmp, _ = np.histogram(a.mc_truth.injection_energy, bins=ebins)\n",
    "        elif idx==3:\n",
    "            h_tmp, _ = np.histogram(a.mc_truth.injection_energy[quality_masks[jdx]], bins=ebins)\n",
    "        h = h + h_tmp\n",
    "    if idx==0:\n",
    "        plt.ylim(1, 5*np.max(h))\n",
    "    plt.fill_between(ecents, 0, h, edgecolor=\"k\", label=label, step=\"mid\")\n",
    "    # plt.fill_between(ecents, 0, h, edgecolor=\"k\", label=label, facecolor=color, step=\"mid\")\n",
    "plt.legend(loc=2, fontsize=12, ncol=2)\n",
    "plt.ylabel(r\"$N_{\\rm{evts.}}$\")\n",
    "plt.xlabel(r\"$E_{\\nu}~\\left[\\rm{GeV}\\right]$\")\n",
    "plt.loglog()\n",
    "plt.xlim(ecents[0], ecents[-1])\n",
    "plt.ylim(1, None)\n",
    "plt.show()"
   ]
  },
  {
   "cell_type": "code",
   "execution_count": 113,
   "id": "750f9dde-a1b4-4d6e-ad4c-872e67bd67e5",
   "metadata": {},
   "outputs": [
    {
     "data": {
      "application/vnd.jupyter.widget-view+json": {
       "model_id": "312b8b618c3545d5bdac012609b65219",
       "version_major": 2,
       "version_minor": 0
      },
      "text/plain": [
       "  0%|          | 0/4 [00:00<?, ?it/s]"
      ]
     },
     "metadata": {},
     "output_type": "display_data"
    },
    {
     "data": {
      "application/vnd.jupyter.widget-view+json": {
       "model_id": "15795c908273471fa83a098cf0c7e618",
       "version_major": 2,
       "version_minor": 0
      },
      "text/plain": [
       "  0%|          | 0/4 [00:00<?, ?it/s]"
      ]
     },
     "metadata": {},
     "output_type": "display_data"
    },
    {
     "data": {
      "application/vnd.jupyter.widget-view+json": {
       "model_id": "4113b255bb254ff4be70dba4627a6dc1",
       "version_major": 2,
       "version_minor": 0
      },
      "text/plain": [
       "  0%|          | 0/4 [00:00<?, ?it/s]"
      ]
     },
     "metadata": {},
     "output_type": "display_data"
    },
    {
     "data": {
      "application/vnd.jupyter.widget-view+json": {
       "model_id": "b2bdf916ea4842a4852c38390cbe7ef6",
       "version_major": 2,
       "version_minor": 0
      },
      "text/plain": [
       "  0%|          | 0/4 [00:00<?, ?it/s]"
      ]
     },
     "metadata": {},
     "output_type": "display_data"
    },
    {
     "name": "stderr",
     "output_type": "stream",
     "text": [
      "findfont: Generic family 'serif' not found because none of the following families were found: Computer Modern, Latin Modern Roman, Bitstream Vera Serif\n",
      "findfont: Generic family 'serif' not found because none of the following families were found: Computer Modern, Latin Modern Roman, Bitstream Vera Serif\n",
      "findfont: Generic family 'serif' not found because none of the following families were found: Computer Modern, Latin Modern Roman, Bitstream Vera Serif\n",
      "findfont: Generic family 'serif' not found because none of the following families were found: Computer Modern, Latin Modern Roman, Bitstream Vera Serif\n",
      "findfont: Generic family 'serif' not found because none of the following families were found: Computer Modern, Latin Modern Roman, Bitstream Vera Serif\n",
      "findfont: Generic family 'serif' not found because none of the following families were found: Computer Modern, Latin Modern Roman, Bitstream Vera Serif\n",
      "findfont: Generic family 'serif' not found because none of the following families were found: Computer Modern, Latin Modern Roman, Bitstream Vera Serif\n",
      "findfont: Generic family 'serif' not found because none of the following families were found: Computer Modern, Latin Modern Roman, Bitstream Vera Serif\n",
      "findfont: Generic family 'serif' not found because none of the following families were found: Computer Modern, Latin Modern Roman, Bitstream Vera Serif\n",
      "findfont: Generic family 'serif' not found because none of the following families were found: Computer Modern, Latin Modern Roman, Bitstream Vera Serif\n",
      "findfont: Generic family 'serif' not found because none of the following families were found: Computer Modern, Latin Modern Roman, Bitstream Vera Serif\n",
      "findfont: Generic family 'serif' not found because none of the following families were found: Computer Modern, Latin Modern Roman, Bitstream Vera Serif\n",
      "findfont: Generic family 'serif' not found because none of the following families were found: Computer Modern, Latin Modern Roman, Bitstream Vera Serif\n",
      "findfont: Generic family 'serif' not found because none of the following families were found: Computer Modern, Latin Modern Roman, Bitstream Vera Serif\n",
      "findfont: Generic family 'serif' not found because none of the following families were found: Computer Modern, Latin Modern Roman, Bitstream Vera Serif\n",
      "findfont: Generic family 'serif' not found because none of the following families were found: Computer Modern, Latin Modern Roman, Bitstream Vera Serif\n",
      "findfont: Generic family 'serif' not found because none of the following families were found: Computer Modern, Latin Modern Roman, Bitstream Vera Serif\n",
      "findfont: Generic family 'serif' not found because none of the following families were found: Computer Modern, Latin Modern Roman, Bitstream Vera Serif\n",
      "findfont: Generic family 'serif' not found because none of the following families were found: Computer Modern, Latin Modern Roman, Bitstream Vera Serif\n",
      "findfont: Generic family 'serif' not found because none of the following families were found: Computer Modern, Latin Modern Roman, Bitstream Vera Serif\n",
      "findfont: Generic family 'serif' not found because none of the following families were found: Computer Modern, Latin Modern Roman, Bitstream Vera Serif\n",
      "findfont: Generic family 'serif' not found because none of the following families were found: Computer Modern, Latin Modern Roman, Bitstream Vera Serif\n",
      "findfont: Generic family 'serif' not found because none of the following families were found: Computer Modern, Latin Modern Roman, Bitstream Vera Serif\n",
      "findfont: Generic family 'serif' not found because none of the following families were found: Computer Modern, Latin Modern Roman, Bitstream Vera Serif\n",
      "findfont: Generic family 'serif' not found because none of the following families were found: Computer Modern, Latin Modern Roman, Bitstream Vera Serif\n",
      "findfont: Generic family 'serif' not found because none of the following families were found: Computer Modern, Latin Modern Roman, Bitstream Vera Serif\n",
      "findfont: Generic family 'serif' not found because none of the following families were found: Computer Modern, Latin Modern Roman, Bitstream Vera Serif\n",
      "findfont: Generic family 'serif' not found because none of the following families were found: Computer Modern, Latin Modern Roman, Bitstream Vera Serif\n",
      "findfont: Generic family 'serif' not found because none of the following families were found: Computer Modern, Latin Modern Roman, Bitstream Vera Serif\n",
      "findfont: Generic family 'serif' not found because none of the following families were found: Computer Modern, Latin Modern Roman, Bitstream Vera Serif\n",
      "findfont: Generic family 'serif' not found because none of the following families were found: Computer Modern, Latin Modern Roman, Bitstream Vera Serif\n",
      "findfont: Generic family 'serif' not found because none of the following families were found: Computer Modern, Latin Modern Roman, Bitstream Vera Serif\n",
      "findfont: Generic family 'serif' not found because none of the following families were found: Computer Modern, Latin Modern Roman, Bitstream Vera Serif\n",
      "findfont: Generic family 'serif' not found because none of the following families were found: Computer Modern, Latin Modern Roman, Bitstream Vera Serif\n",
      "findfont: Generic family 'serif' not found because none of the following families were found: Computer Modern, Latin Modern Roman, Bitstream Vera Serif\n",
      "findfont: Generic family 'serif' not found because none of the following families were found: Computer Modern, Latin Modern Roman, Bitstream Vera Serif\n",
      "findfont: Generic family 'serif' not found because none of the following families were found: Computer Modern, Latin Modern Roman, Bitstream Vera Serif\n",
      "findfont: Generic family 'serif' not found because none of the following families were found: Computer Modern, Latin Modern Roman, Bitstream Vera Serif\n",
      "findfont: Generic family 'serif' not found because none of the following families were found: Computer Modern, Latin Modern Roman, Bitstream Vera Serif\n",
      "findfont: Generic family 'serif' not found because none of the following families were found: Computer Modern, Latin Modern Roman, Bitstream Vera Serif\n",
      "findfont: Generic family 'serif' not found because none of the following families were found: Computer Modern, Latin Modern Roman, Bitstream Vera Serif\n",
      "findfont: Generic family 'serif' not found because none of the following families were found: Computer Modern, Latin Modern Roman, Bitstream Vera Serif\n",
      "findfont: Generic family 'serif' not found because none of the following families were found: Computer Modern, Latin Modern Roman, Bitstream Vera Serif\n",
      "findfont: Generic family 'serif' not found because none of the following families were found: Computer Modern, Latin Modern Roman, Bitstream Vera Serif\n",
      "findfont: Generic family 'serif' not found because none of the following families were found: Computer Modern, Latin Modern Roman, Bitstream Vera Serif\n",
      "findfont: Generic family 'serif' not found because none of the following families were found: Computer Modern, Latin Modern Roman, Bitstream Vera Serif\n",
      "findfont: Generic family 'serif' not found because none of the following families were found: Computer Modern, Latin Modern Roman, Bitstream Vera Serif\n",
      "findfont: Generic family 'serif' not found because none of the following families were found: Computer Modern, Latin Modern Roman, Bitstream Vera Serif\n",
      "findfont: Generic family 'serif' not found because none of the following families were found: Computer Modern, Latin Modern Roman, Bitstream Vera Serif\n",
      "findfont: Generic family 'serif' not found because none of the following families were found: Computer Modern, Latin Modern Roman, Bitstream Vera Serif\n",
      "findfont: Generic family 'serif' not found because none of the following families were found: Computer Modern, Latin Modern Roman, Bitstream Vera Serif\n",
      "findfont: Generic family 'serif' not found because none of the following families were found: Computer Modern, Latin Modern Roman, Bitstream Vera Serif\n",
      "findfont: Generic family 'serif' not found because none of the following families were found: Computer Modern, Latin Modern Roman, Bitstream Vera Serif\n",
      "findfont: Generic family 'serif' not found because none of the following families were found: Computer Modern, Latin Modern Roman, Bitstream Vera Serif\n",
      "findfont: Generic family 'serif' not found because none of the following families were found: Computer Modern, Latin Modern Roman, Bitstream Vera Serif\n",
      "findfont: Generic family 'serif' not found because none of the following families were found: Computer Modern, Latin Modern Roman, Bitstream Vera Serif\n",
      "findfont: Generic family 'serif' not found because none of the following families were found: Computer Modern, Latin Modern Roman, Bitstream Vera Serif\n",
      "findfont: Generic family 'serif' not found because none of the following families were found: Computer Modern, Latin Modern Roman, Bitstream Vera Serif\n",
      "findfont: Generic family 'serif' not found because none of the following families were found: Computer Modern, Latin Modern Roman, Bitstream Vera Serif\n",
      "findfont: Generic family 'serif' not found because none of the following families were found: Computer Modern, Latin Modern Roman, Bitstream Vera Serif\n",
      "findfont: Generic family 'serif' not found because none of the following families were found: Computer Modern, Latin Modern Roman, Bitstream Vera Serif\n",
      "findfont: Generic family 'serif' not found because none of the following families were found: Computer Modern, Latin Modern Roman, Bitstream Vera Serif\n",
      "findfont: Generic family 'serif' not found because none of the following families were found: Computer Modern, Latin Modern Roman, Bitstream Vera Serif\n",
      "findfont: Generic family 'serif' not found because none of the following families were found: Computer Modern, Latin Modern Roman, Bitstream Vera Serif\n",
      "findfont: Generic family 'serif' not found because none of the following families were found: Computer Modern, Latin Modern Roman, Bitstream Vera Serif\n",
      "findfont: Generic family 'serif' not found because none of the following families were found: Computer Modern, Latin Modern Roman, Bitstream Vera Serif\n",
      "findfont: Generic family 'serif' not found because none of the following families were found: Computer Modern, Latin Modern Roman, Bitstream Vera Serif\n",
      "findfont: Generic family 'serif' not found because none of the following families were found: Computer Modern, Latin Modern Roman, Bitstream Vera Serif\n",
      "findfont: Generic family 'serif' not found because none of the following families were found: Computer Modern, Latin Modern Roman, Bitstream Vera Serif\n",
      "findfont: Generic family 'serif' not found because none of the following families were found: Computer Modern, Latin Modern Roman, Bitstream Vera Serif\n",
      "findfont: Generic family 'serif' not found because none of the following families were found: Computer Modern, Latin Modern Roman, Bitstream Vera Serif\n",
      "findfont: Generic family 'serif' not found because none of the following families were found: Computer Modern, Latin Modern Roman, Bitstream Vera Serif\n",
      "findfont: Generic family 'serif' not found because none of the following families were found: Computer Modern, Latin Modern Roman, Bitstream Vera Serif\n",
      "findfont: Generic family 'serif' not found because none of the following families were found: Computer Modern, Latin Modern Roman, Bitstream Vera Serif\n",
      "findfont: Generic family 'serif' not found because none of the following families were found: Computer Modern, Latin Modern Roman, Bitstream Vera Serif\n",
      "findfont: Generic family 'serif' not found because none of the following families were found: Computer Modern, Latin Modern Roman, Bitstream Vera Serif\n",
      "findfont: Generic family 'serif' not found because none of the following families were found: Computer Modern, Latin Modern Roman, Bitstream Vera Serif\n",
      "findfont: Generic family 'serif' not found because none of the following families were found: Computer Modern, Latin Modern Roman, Bitstream Vera Serif\n",
      "findfont: Generic family 'serif' not found because none of the following families were found: Computer Modern, Latin Modern Roman, Bitstream Vera Serif\n",
      "findfont: Generic family 'serif' not found because none of the following families were found: Computer Modern, Latin Modern Roman, Bitstream Vera Serif\n",
      "findfont: Generic family 'serif' not found because none of the following families were found: Computer Modern, Latin Modern Roman, Bitstream Vera Serif\n",
      "findfont: Generic family 'serif' not found because none of the following families were found: Computer Modern, Latin Modern Roman, Bitstream Vera Serif\n",
      "findfont: Generic family 'serif' not found because none of the following families were found: Computer Modern, Latin Modern Roman, Bitstream Vera Serif\n"
     ]
    },
    {
     "data": {
      "image/png": "[encoded data removed]",
      "text/plain": [
       "<Figure size 750x500 with 1 Axes>"
      ]
     },
     "metadata": {},
     "output_type": "display_data"
    }
   ],
   "source": [
    "czbins = np.linspace(-1, 0.17364817766693041, 41)\n",
    "czcents = (czbins[1:] + czbins[:-1]) / 2\n",
    "\n",
    "labels = [\"Generation\", \"Light\", \"SMT8\", \"Quality\"]\n",
    "\n",
    "for idx, label in enumerate(labels):\n",
    "    h = np.zeros(ecents.shape)\n",
    "    if idx==0 or idx==1:\n",
    "        itr = enumerate(tqdm(other_fs))\n",
    "    else:\n",
    "        itr = enumerate(tqdm(fs))\n",
    "    for jdx, f in itr:\n",
    "        a = ak.from_parquet(f)\n",
    "        if idx==0:\n",
    "            h_tmp, _ = np.histogram(np.cos(a.mc_truth.injection_zenith), bins=czbins)\n",
    "        elif idx==1:\n",
    "            mask = np.array([len(x)>1 for x in a.total.t])\n",
    "            h_tmp, _ = np.histogram(np.cos(a.mc_truth.injection_zenith)[mask], bins=czbins)\n",
    "        elif idx==2:\n",
    "            h_tmp, _ = np.histogram(np.cos(a.mc_truth.injection_zenith), bins=czbins)\n",
    "        elif idx==3:\n",
    "            h_tmp, _ = np.histogram(np.cos(a.mc_truth.injection_zenith)[quality_masks[jdx]], bins=czbins)\n",
    "        else:\n",
    "            raise ValueError()\n",
    "        h = h + h_tmp\n",
    "    plt.fill_between(czcents, 0, h, edgecolor=\"k\", label=label, step=\"mid\")\n",
    "    if idx==0:\n",
    "        plt.ylim(1, 5*np.max(h))\n",
    "plt.xlabel(r\"$\\cos\\left(\\theta_{\\nu}^{\\rm{zen.}}\\right)$\")\n",
    "plt.ylabel(r\"$N_{\\rm{evts.}}$\")\n",
    "plt.legend(loc=1, fontsize=12, ncol=2)\n",
    "plt.semilogy()\n",
    "plt.xlim(czcents[0], czcents[-1])\n",
    "plt.show()"
   ]
  },
  {
   "cell_type": "code",
   "execution_count": null,
   "id": "cc4dd739-fd0a-4618-b07b-06ef0ed73101",
   "metadata": {},
   "outputs": [],
   "source": []
  }
 ],
 "metadata": {
  "kernelspec": {
   "display_name": "Python 3 (ipykernel)",
   "language": "python",
   "name": "python3"
  },
  "language_info": {
   "codemirror_mode": {
    "name": "ipython",
    "version": 3
   },
   "file_extension": ".py",
   "mimetype": "text/x-python",
   "name": "python",
   "nbconvert_exporter": "python",
   "pygments_lexer": "ipython3",
   "version": "3.10.7"
  }
 },
 "nbformat": 4,
 "nbformat_minor": 5
}
